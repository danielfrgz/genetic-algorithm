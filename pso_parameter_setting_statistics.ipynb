{
 "cells": [
  {
   "cell_type": "markdown",
   "id": "2c7fe34f",
   "metadata": {},
   "source": [
    "### Statistical Test for PSO Parameter Setting\n",
    "\n",
    "Testing the statistical strength of W, c1 and c2 values 0.25, 0.5 and 0.75 on datasets of sizes 50, 100 and 200."
   ]
  },
  {
   "cell_type": "code",
   "execution_count": 1,
   "id": "9071112d",
   "metadata": {},
   "outputs": [
    {
     "name": "stdout",
     "output_type": "stream",
     "text": [
      "Friedman statistic: 54.0000\n",
      "P-value: 0.0000\n",
      "\n",
      "Mean ranks per combination:\n",
      "(w=0.25, c1=0.25, c2=0.25): Mean rank = 5.33\n",
      "(w=0.25, c1=0.25, c2=0.5): Mean rank = 4.00\n",
      "(w=0.25, c1=0.25, c2=0.75): Mean rank = 10.00\n",
      "(w=0.25, c1=0.5, c2=0.25): Mean rank = 13.33\n",
      "(w=0.25, c1=0.5, c2=0.5): Mean rank = 13.00\n",
      "(w=0.25, c1=0.5, c2=0.75): Mean rank = 16.33\n",
      "(w=0.25, c1=0.75, c2=0.25): Mean rank = 21.33\n",
      "(w=0.25, c1=0.75, c2=0.5): Mean rank = 22.50\n",
      "(w=0.25, c1=0.75, c2=0.75): Mean rank = 20.67\n",
      "(w=0.5, c1=0.25, c2=0.25): Mean rank = 6.67\n",
      "(w=0.5, c1=0.25, c2=0.5): Mean rank = 2.67\n",
      "(w=0.5, c1=0.25, c2=0.75): Mean rank = 2.00\n",
      "(w=0.5, c1=0.5, c2=0.25): Mean rank = 10.67\n",
      "(w=0.5, c1=0.5, c2=0.5): Mean rank = 12.33\n",
      "(w=0.5, c1=0.5, c2=0.75): Mean rank = 15.00\n",
      "(w=0.5, c1=0.75, c2=0.25): Mean rank = 22.83\n",
      "(w=0.5, c1=0.75, c2=0.5): Mean rank = 25.33\n",
      "(w=0.5, c1=0.75, c2=0.75): Mean rank = 26.67\n",
      "(w=0.75, c1=0.25, c2=0.25): Mean rank = 8.00\n",
      "(w=0.75, c1=0.25, c2=0.5): Mean rank = 3.33\n",
      "(w=0.75, c1=0.25, c2=0.75): Mean rank = 6.00\n",
      "(w=0.75, c1=0.5, c2=0.25): Mean rank = 14.33\n",
      "(w=0.75, c1=0.5, c2=0.5): Mean rank = 14.83\n",
      "(w=0.75, c1=0.5, c2=0.75): Mean rank = 14.50\n",
      "(w=0.75, c1=0.75, c2=0.25): Mean rank = 22.50\n",
      "(w=0.75, c1=0.75, c2=0.5): Mean rank = 22.83\n",
      "(w=0.75, c1=0.75, c2=0.75): Mean rank = 21.00\n"
     ]
    }
   ],
   "source": [
    "import numpy as np\n",
    "from scipy.stats import friedmanchisquare, rankdata\n",
    "\n",
    "# Each row = (w, c1, c2) combo in lex order\n",
    "# Each column = average fitness on dataset 50 (small), 100 (medium) and 200 (large) respectively.\n",
    "\n",
    "import numpy as np\n",
    "\n",
    "results = np.array([\n",
    "    [0.8089, 0.7795, 0.7359],  # (0.25, 0.25, 0.25)\n",
    "    [0.8176, 0.7769, 0.7369],  # (0.25, 0.25, 0.50)\n",
    "    [0.8016, 0.7690, 0.7335],  # (0.25, 0.25, 0.75)\n",
    "    [0.7994, 0.7691, 0.7281],  # (0.25, 0.50, 0.25)\n",
    "    [0.8014, 0.7659, 0.7315],  # (0.25, 0.50, 0.50)\n",
    "    [0.7960, 0.7661, 0.7266],  # (0.25, 0.50, 0.75)\n",
    "    [0.7833, 0.7547, 0.7109],  # (0.25, 0.75, 0.25)\n",
    "    [0.7769, 0.7468, 0.7117],  # (0.25, 0.75, 0.50)\n",
    "    [0.7891, 0.7450, 0.7134],  # (0.25, 0.75, 0.75)\n",
    "    [0.8090, 0.7748, 0.7364],  # (0.50, 0.25, 0.25)\n",
    "    [0.8164, 0.7782, 0.7388],  # (0.50, 0.25, 0.50)\n",
    "    [0.8138, 0.7834, 0.7399],  # (0.50, 0.25, 0.75)\n",
    "    [0.8081, 0.7670, 0.7307],  # (0.50, 0.50, 0.25)\n",
    "    [0.7959, 0.7704, 0.7323],  # (0.50, 0.50, 0.50)\n",
    "    [0.8073, 0.7503, 0.7292],  # (0.50, 0.50, 0.75)\n",
    "    [0.7743, 0.7550, 0.7094],  # (0.50, 0.75, 0.25)\n",
    "    [0.7675, 0.7396, 0.7095],  # (0.50, 0.75, 0.50)\n",
    "    [0.7718, 0.7371, 0.7075],  # (0.50, 0.75, 0.75)\n",
    "    [0.7997, 0.7764, 0.7377],  # (0.75, 0.25, 0.25)\n",
    "    [0.8139, 0.7787, 0.7370],  # (0.75, 0.25, 0.50)\n",
    "    [0.8126, 0.7774, 0.7341],  # (0.75, 0.25, 0.75)\n",
    "    [0.7968, 0.7668, 0.7301],  # (0.75, 0.50, 0.25)\n",
    "    [0.8000, 0.7663, 0.7251],  # (0.75, 0.50, 0.50)\n",
    "    [0.8000, 0.7669, 0.7204],  # (0.75, 0.50, 0.75)\n",
    "    [0.7858, 0.7381, 0.7117],  # (0.75, 0.75, 0.25)\n",
    "    [0.7724, 0.7584, 0.7094],  # (0.75, 0.75, 0.50)\n",
    "    [0.7805, 0.7542, 0.7121],  # (0.75, 0.75, 0.75)\n",
    "])\n",
    "\n",
    "stat, p = friedmanchisquare(*results.T)\n",
    "print(f\"Friedman statistic: {stat:.4f}\")\n",
    "print(f\"P-value: {p:.4f}\")\n",
    "\n",
    "ranks = np.array([rankdata(-col) for col in results.T]).T\n",
    "mean_ranks = ranks.mean(axis=1)\n",
    "\n",
    "print(\"\\nMean ranks per combination:\")\n",
    "for i, rank in enumerate(mean_ranks):\n",
    "    w_idx, c1_idx, c2_idx = i // 9, (i % 9) // 3, i % 3\n",
    "    w = [0.25, 0.5, 0.75][w_idx]\n",
    "    c1 = [0.25, 0.5, 0.75][c1_idx]\n",
    "    c2 = [0.25, 0.5, 0.75][c2_idx]\n",
    "    print(f\"(w={w}, c1={c1}, c2={c2}): Mean rank = {rank:.2f}\")\n"
   ]
  }
 ],
 "metadata": {
  "kernelspec": {
   "display_name": "Python 3",
   "language": "python",
   "name": "python3"
  },
  "language_info": {
   "codemirror_mode": {
    "name": "ipython",
    "version": 3
   },
   "file_extension": ".py",
   "mimetype": "text/x-python",
   "name": "python",
   "nbconvert_exporter": "python",
   "pygments_lexer": "ipython3",
   "version": "3.10.7"
  }
 },
 "nbformat": 4,
 "nbformat_minor": 5
}
