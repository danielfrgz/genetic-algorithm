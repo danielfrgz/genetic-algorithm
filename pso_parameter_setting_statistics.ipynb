{
 "cells": [
  {
   "cell_type": "markdown",
   "id": "2c7fe34f",
   "metadata": {},
   "source": [
    "### Statistical Test for PSO Parameter Setting\n",
    "\n",
    "Testing the statistical strength of W, c1 and c2 values 0.25, 0.5 and 0.75 on datasets of sizes 50, 100 and 200."
   ]
  },
  {
   "cell_type": "code",
   "execution_count": null,
   "id": "9071112d",
   "metadata": {},
   "outputs": [],
   "source": [
    "import numpy as np\n",
    "from scipy.stats import friedmanchisquare, rankdata\n",
    "\n",
    "# Each row = (w, c1, c2) combo in lex order\n",
    "# Each column = average fitness on dataset 1, 2, 3\n",
    "\n",
    "results = np.array([\n",
    "    [0.0000, 0.0000, 0.0000],  # (0.25, 0.25, 0.25)\n",
    "    [0.0000, 0.0000, 0.0000],  # (0.25, 0.25, 0.50)\n",
    "    [0.0000, 0.0000, 0.0000],  # (0.25, 0.25, 0.75)\n",
    "    [0.0000, 0.0000, 0.0000],  # (0.25, 0.50, 0.25)\n",
    "    [0.0000, 0.0000, 0.0000],  # (0.25, 0.50, 0.50)\n",
    "    [0.0000, 0.0000, 0.0000],  # (0.25, 0.50, 0.75)\n",
    "    [0.0000, 0.0000, 0.0000],  # (0.25, 0.75, 0.25)\n",
    "    [0.0000, 0.0000, 0.0000],  # (0.25, 0.75, 0.50)\n",
    "    [0.0000, 0.0000, 0.0000],  # (0.25, 0.75, 0.75)\n",
    "    [0.0000, 0.0000, 0.0000],  # (0.50, 0.25, 0.25)\n",
    "    [0.0000, 0.0000, 0.0000],  # (0.50, 0.25, 0.50)\n",
    "    [0.0000, 0.0000, 0.0000],  # (0.50, 0.25, 0.75)\n",
    "    [0.0000, 0.0000, 0.0000],  # (0.50, 0.50, 0.25)\n",
    "    [0.0000, 0.0000, 0.0000],  # (0.50, 0.50, 0.50)\n",
    "    [0.0000, 0.0000, 0.0000],  # (0.50, 0.50, 0.75)\n",
    "    [0.0000, 0.0000, 0.0000],  # (0.50, 0.75, 0.25)\n",
    "    [0.0000, 0.0000, 0.0000],  # (0.50, 0.75, 0.50)\n",
    "    [0.0000, 0.0000, 0.0000],  # (0.50, 0.75, 0.75)\n",
    "    [0.0000, 0.0000, 0.0000],  # (0.75, 0.25, 0.25)\n",
    "    [0.0000, 0.0000, 0.0000],  # (0.75, 0.25, 0.50)\n",
    "    [0.0000, 0.0000, 0.0000],  # (0.75, 0.25, 0.75)\n",
    "    [0.0000, 0.0000, 0.0000],  # (0.75, 0.50, 0.25)\n",
    "    [0.0000, 0.0000, 0.0000],  # (0.75, 0.50, 0.50)\n",
    "    [0.0000, 0.0000, 0.0000],  # (0.75, 0.50, 0.75)\n",
    "    [0.0000, 0.0000, 0.0000],  # (0.75, 0.75, 0.25)\n",
    "    [0.0000, 0.0000, 0.0000],  # (0.75, 0.75, 0.50)\n",
    "    [0.0000, 0.0000, 0.0000],  # (0.75, 0.75, 0.75)\n",
    "])\n",
    "\n",
    "stat, p = friedmanchisquare(*results.T)\n",
    "print(f\"Friedman statistic: {stat:.4f}\")\n",
    "print(f\"P-value: {p:.4f}\")\n",
    "\n",
    "# --- Mean ranks (higher is better if fitness is higher) ---\n",
    "ranks = np.array([rankdata(-col) for col in results.T]).T\n",
    "mean_ranks = ranks.mean(axis=1)\n",
    "\n",
    "print(\"\\nMean ranks per combination:\")\n",
    "for i, rank in enumerate(mean_ranks):\n",
    "    w_idx, c1_idx, c2_idx = i // 9, (i % 9) // 3, i % 3\n",
    "    w = [0.25, 0.5, 0.75][w_idx]\n",
    "    c1 = [0.25, 0.5, 0.75][c1_idx]\n",
    "    c2 = [0.25, 0.5, 0.75][c2_idx]\n",
    "    print(f\"(w={w}, c1={c1}, c2={c2}): Mean rank = {rank:.2f}\")\n"
   ]
  }
 ],
 "metadata": {
  "language_info": {
   "name": "python"
  }
 },
 "nbformat": 4,
 "nbformat_minor": 5
}
