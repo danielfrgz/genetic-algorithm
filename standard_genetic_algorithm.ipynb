{
 "cells": [
  {
   "cell_type": "markdown",
   "id": "155652a8",
   "metadata": {},
   "source": [
    "## Standard Genetic Algorithm Implementation\n",
    "\n",
    "Developed by Daniel Frutos Rodriguez for _\"A Comparison of Optimization Techniques for Solving the Team Formation Problem\"_.\n",
    "\n",
    "Frutos-Rodriguez D., Barrios-Fleitas Y., and Lalla E. 2025. _A Comparison of Optimization Techniques for Solving the Team Formation Problem._ In _Proceedings Placeholder_. ACM, New York, NY, USA, 6 pages. [https://doi.org/10.1145/nnnnnnn.nnnnnnn](https://doi.org/10.1145/nnnnnnn.nnnnnnn)"
   ]
  },
  {
   "cell_type": "markdown",
   "id": "41e880b0",
   "metadata": {},
   "source": [
    "#### Libraries"
   ]
  },
  {
   "cell_type": "code",
   "execution_count": 25,
   "id": "b5613132",
   "metadata": {},
   "outputs": [],
   "source": [
    "import pandas as pd # For datasets\n",
    "import utils.fitness_functions as ff\n",
    "import utils.exhaustive_solver as es\n",
    "import utils.restriction_checker as rc\n",
    "import models.team_assignment as ta\n",
    "import random # For randomness\n",
    "import os # For output\n",
    "from contextlib import redirect_stdout # For output\n",
    "import datetime # For output\n",
    "from copy import deepcopy # For crossover function\n",
    "\n",
    "# Some imports that may be used later (for plotting or mathematical computations)\n",
    "# import numpy as np\n",
    "# import matplotlib.pyplot as plt\n",
    "# import statsmodels.api as sm\n",
    "# import seaborn as sns"
   ]
  },
  {
   "cell_type": "markdown",
   "id": "b2ffe10f",
   "metadata": {},
   "source": [
    "#### Constants"
   ]
  },
  {
   "cell_type": "code",
   "execution_count": 26,
   "id": "6629ea0a",
   "metadata": {},
   "outputs": [],
   "source": [
    "PROJECTS = ['Shotmaniacs', 'actFact', 'Honours Programme', 'Voice', 'Topicus', 'Earnit', 'Inter-actief'] # Possible projects.\n",
    "DATA = 'data\\synthetic_dataset_small.csv' # Dataset reference.\n",
    "SYNTHETIC_DATASET = pd.read_csv(DATA, sep=';') # Dataset stored as a dataframe.\n",
    "NUMBER_OF_GENERATIONS = 100 # Number of generations to iterate in the GA loop.\n",
    "COMPUTE_OPTIMAL_SOLUTION = False # (Only for small synthetic datasets), computes optimal solution through exhaustive solver.\n",
    "EFFICIENCY_GOAL = None # (Only for small synthetic datasets), allows early finishing of the algorithm if a certain efficiency\n",
    "                     # (score / score of best possible solution) is met.\n",
    "OFFSPRING_PER_GENERATION = 8 # Number of offspring 'birthed' in each iteration of the GA.\n",
    "RUN_TIME = datetime.datetime.now().strftime(\"run_%Y%m%d_%H%M%S\") # Constant for output folder naming.\n",
    "BASE_DIR = \"output\" # Base directory for outputs."
   ]
  },
  {
   "cell_type": "markdown",
   "id": "7266ac46",
   "metadata": {},
   "source": [
    "#### Output Configuration"
   ]
  },
  {
   "cell_type": "code",
   "execution_count": 27,
   "id": "750ccd65",
   "metadata": {},
   "outputs": [],
   "source": [
    "def save_arrangement_batch(arrangements, SYNTHETIC_DATASET, iteration, run_index=None):\n",
    "    # Create output directory\n",
    "    os.makedirs(BASE_DIR, exist_ok=True)\n",
    "\n",
    "    if run_index is None:\n",
    "        # Default: timestamped folder\n",
    "        run_index = RUN_TIME\n",
    "\n",
    "    run_folder = os.path.join(BASE_DIR, f\"{run_index}\", f\"generation_{iteration}\")\n",
    "    os.makedirs(run_folder, exist_ok=True)\n",
    "\n",
    "    scores = []\n",
    "\n",
    "    # Evaluate and save each arrangement\n",
    "    for i, arrangement in enumerate(arrangements, start=1):\n",
    "        filename = os.path.join(run_folder, f\"assignment_{i}.txt\")\n",
    "        with open(filename, \"w\") as f:\n",
    "            with redirect_stdout(f):\n",
    "                score = ff.evaluate_all_teams(arrangement, SYNTHETIC_DATASET)\n",
    "                print(f\"\\nFinal score for arrangement {i}: {score:.4f}\")\n",
    "                scores.append(score)\n",
    "                \n",
    "    return scores"
   ]
  },
  {
   "cell_type": "markdown",
   "id": "18335148",
   "metadata": {},
   "source": [
    "#### Initial Population Generation"
   ]
  },
  {
   "cell_type": "code",
   "execution_count": 28,
   "id": "60bf8b7e",
   "metadata": {},
   "outputs": [],
   "source": [
    "def create_random_teams(df, min_size=5, max_size=6, project_pool=PROJECTS):\n",
    "    while True:\n",
    "        students = df.to_dict(orient='records')\n",
    "        random.shuffle(students)\n",
    "\n",
    "        total_students = len(students)\n",
    "        teams = []\n",
    "        project_counters = {} # Track number of teams per project\n",
    "        i = 0\n",
    "        while total_students - i >= min_size:\n",
    "\n",
    "            remaining = total_students - i\n",
    "            if 11 <= remaining <= 12:\n",
    "                team_size = 6 if remaining == 12 else 5  # Prevent ending in a 1-member team\n",
    "            elif remaining in [10, 9, 8, 7]:\n",
    "                team_size = 5\n",
    "            else:\n",
    "                team_size = random.choice([5, 6])\n",
    "\n",
    "            team = students[i:i+team_size]\n",
    "\n",
    "            if not rc.is_valid_team(team):\n",
    "                i += 1  # Skip just 1 student and try again\n",
    "                continue\n",
    "\n",
    "            project = random.choice(project_pool)\n",
    "\n",
    "            # Track how many times we've used this project\n",
    "            count = project_counters.get(project, 0) + 1\n",
    "            project_counters[project] = count\n",
    "            team_id = f\"{project} {count}\"\n",
    "            teams.append(ta.TeamAssignment(team_id, team, project, fitness=0.0))\n",
    "\n",
    "            i += team_size\n",
    "\n",
    "        assigned_ids = [member['ID'] for team in teams for member in team.members]\n",
    "        if set(assigned_ids) == set(df['ID']):\n",
    "            return teams\n",
    "    "
   ]
  },
  {
   "cell_type": "markdown",
   "id": "b226ca02",
   "metadata": {},
   "source": [
    "#### Selection"
   ]
  },
  {
   "cell_type": "code",
   "execution_count": 29,
   "id": "8c126710",
   "metadata": {},
   "outputs": [],
   "source": [
    "def select_parents(arrangements, scores):\n",
    "\n",
    "    arrangements_with_scores = list(zip(arrangements, scores))\n",
    "    arrangements_with_scores.sort(key=lambda x : x[1], reverse=True)\n",
    "\n",
    "    top_2_arrangements = [arrangements_with_scores[0][0], arrangements_with_scores[1][0]]\n",
    "\n",
    "    return top_2_arrangements"
   ]
  },
  {
   "cell_type": "markdown",
   "id": "2e4d9aa9",
   "metadata": {},
   "source": [
    "#### Crossover"
   ]
  },
  {
   "cell_type": "code",
   "execution_count": 30,
   "id": "a0a91a37",
   "metadata": {},
   "outputs": [],
   "source": [
    "# TODO Improve crossover function\n",
    "\n",
    "def crossover(parent1, parent2):\n",
    "    selected_teams = random.sample(parent1, k=random.randint(1, len(parent1) - 1))\n",
    "    \n",
    "    # Extract IDs from selected teams' members\n",
    "    used_ids = set(member['ID'] for team in selected_teams for member in team.members)\n",
    "\n",
    "    # Start building child from selected teams\n",
    "    child_teams = deepcopy(selected_teams)\n",
    "\n",
    "    # Add non-overlapping teams from parent2\n",
    "    for team in parent2:\n",
    "        team_ids = [member['ID'] for member in team.members]\n",
    "        if any(id in used_ids for id in team_ids):\n",
    "            continue\n",
    "        child_teams.append(deepcopy(team))\n",
    "        used_ids.update(team_ids)\n",
    "\n",
    "    # Fill remaining students\n",
    "    all_ids = SYNTHETIC_DATASET['ID'].tolist()\n",
    "    remaining_ids = [id for id in all_ids if id not in used_ids]\n",
    "    df_by_id = SYNTHETIC_DATASET.set_index('ID').to_dict(orient='index')\n",
    "    remaining_students = [dict(df_by_id[id], ID=id) for id in remaining_ids]\n",
    "\n",
    "    if remaining_students:\n",
    "        remaining_df = pd.DataFrame(remaining_students)\n",
    "        new_teams = create_random_teams(remaining_df)\n",
    "        child_teams += new_teams\n",
    "\n",
    "    if rc.is_valid_arrangement(child_teams, total_students=len(SYNTHETIC_DATASET), projects=PROJECTS):\n",
    "        return child_teams\n",
    "    else:\n",
    "        return crossover(parent1, parent2) # Repeat until a valid arrangement is made\n"
   ]
  },
  {
   "cell_type": "markdown",
   "id": "3a40639a",
   "metadata": {},
   "source": [
    "#### Mutation"
   ]
  },
  {
   "cell_type": "code",
   "execution_count": 31,
   "id": "690c998e",
   "metadata": {},
   "outputs": [],
   "source": [
    "def mutate(arrangement):\n",
    "    \n",
    "    mutated = deepcopy(arrangement)\n",
    "\n",
    "    # Pick two distinct teams\n",
    "    team_a, team_b = random.sample(mutated, 2)\n",
    "\n",
    "    # Pick one random member from each\n",
    "    student_a = random.choice(team_a.members)\n",
    "    student_b = random.choice(team_b.members)\n",
    "\n",
    "    # Swap them\n",
    "    team_a.members.remove(student_a)\n",
    "    team_b.members.remove(student_b)\n",
    "    team_a.members.append(student_b)\n",
    "    team_b.members.append(student_a)\n",
    "\n",
    "    # Check if resulting arrangement is valid\n",
    "    if rc.is_valid_arrangement(mutated, total_students=len(SYNTHETIC_DATASET), projects=PROJECTS):\n",
    "        return mutated\n",
    "    else:\n",
    "        return mutate(arrangement) # Repeat until a valid arrangement is made."
   ]
  },
  {
   "cell_type": "markdown",
   "id": "aea94c85",
   "metadata": {},
   "source": [
    "#### GA Execution"
   ]
  },
  {
   "cell_type": "code",
   "execution_count": null,
   "id": "38b5b977",
   "metadata": {},
   "outputs": [],
   "source": [
    "# 0. Initial Population Generation\n",
    "arrangements = [create_random_teams(SYNTHETIC_DATASET) for _ in range(10)]\n",
    "\n",
    "# 0.5 Computation of Best Possible Arrangement for Performance Measurement. Only feasible in small synthetic datasets due to TFP.\n",
    "if (COMPUTE_OPTIMAL_SOLUTION):\n",
    "    optimal_arrangement, optimal_score = es.find_best_arrangement(SYNTHETIC_DATASET, DATA)\n",
    "\n",
    "# 0.75 Performance Log (For debugging, and ensuring that score improves with each generation).\n",
    "performance_log = os.path.join(BASE_DIR, f\"{RUN_TIME}\", f\"performance.txt\")\n",
    "os.makedirs(os.path.dirname(performance_log), exist_ok=True)\n",
    "\n",
    "with open(performance_log, \"w\") as f:\n",
    "    f.write(f\"Performance log for run: {RUN_TIME}\\n\")\n",
    "    if (COMPUTE_OPTIMAL_SOLUTION):\n",
    "        f.write(f\"Optimal score: {optimal_score:.4f}\\n\\n\")\n",
    "\n",
    "iters = 0\n",
    "best_score = -1\n",
    "efficiency = -1\n",
    "while iters < NUMBER_OF_GENERATIONS and (EFFICIENCY_GOAL is None or efficiency < EFFICIENCY_GOAL):\n",
    "\n",
    "    # 1. Fitness Evaluation\n",
    "    scores = save_arrangement_batch(arrangements, SYNTHETIC_DATASET, iters) # Evaluates all teams, and outputs to output folder. Returns score of each arrangement.\n",
    "    current_max = max(scores)\n",
    "\n",
    "    # Log the best score in the generation\n",
    "    if (COMPUTE_OPTIMAL_SOLUTION):\n",
    "        efficiency = (current_max / optimal_score) * 100\n",
    "\n",
    "    with open(performance_log, \"a\") as f:\n",
    "        f.write(\n",
    "            f\"Generation {iters}: Best score = {current_max:.4f}\"\n",
    "            + (f\" | Efficiency = {efficiency:.2f}%\" if COMPUTE_OPTIMAL_SOLUTION else \"\")\n",
    "            + \"\\n\"\n",
    "        )\n",
    "\n",
    "    # Optional: stop early if efficiency goal is met\n",
    "    if EFFICIENCY_GOAL is not None and current_max >= EFFICIENCY_GOAL:\n",
    "        break\n",
    "\n",
    "    if current_max > best_score:\n",
    "        best_score = current_max\n",
    "\n",
    "    # 2. Selection\n",
    "    parents = select_parents(arrangements, scores)\n",
    "\n",
    "    # 3. Crossover & Mutation\n",
    "    offspring = []\n",
    "    while len(offspring) < OFFSPRING_PER_GENERATION:\n",
    "        child = crossover(parents[0], parents[1])\n",
    "        mutated_child = mutate(child)\n",
    "        offspring.append(mutated_child)\n",
    "\n",
    "    arrangements = parents + offspring # Keeps parents in next generation, as their scores will often be better than children's.\n",
    "    iters += 1"
   ]
  }
 ],
 "metadata": {
  "kernelspec": {
   "display_name": "Python 3",
   "language": "python",
   "name": "python3"
  },
  "language_info": {
   "codemirror_mode": {
    "name": "ipython",
    "version": 3
   },
   "file_extension": ".py",
   "mimetype": "text/x-python",
   "name": "python",
   "nbconvert_exporter": "python",
   "pygments_lexer": "ipython3",
   "version": "3.10.7"
  }
 },
 "nbformat": 4,
 "nbformat_minor": 5
}
