{
 "cells": [
  {
   "cell_type": "code",
   "execution_count": 1,
   "id": "4fb318e8",
   "metadata": {},
   "outputs": [],
   "source": [
    "import pandas as pd\n",
    "from collections import defaultdict\n",
    "import models.team_assignment as ta\n",
    "import utils.restriction_checker as rc\n",
    "\n",
    "DATA = \"data/corrected_2022_23_arrangement.csv\"\n",
    "PROJECTS = ['Shotmaniacs', 'actFact', 'Honours Programme', 'Voice', 'Topicus', 'Earnit', 'Inter-actief', 'Rosen', 'eMagiz', 'NoteBridge', 'Entweder']"
   ]
  },
  {
   "cell_type": "code",
   "execution_count": 2,
   "id": "5a161dbe",
   "metadata": {},
   "outputs": [
    {
     "name": "stdout",
     "output_type": "stream",
     "text": [
      "Team Arrangement valid.\n"
     ]
    }
   ],
   "source": [
    "df = pd.read_csv(DATA, sep=\";\")\n",
    "\n",
    "groups = defaultdict(list)\n",
    "\n",
    "for _, student in df.iterrows():\n",
    "    project = student[\"Assigned Project\"]\n",
    "    team_number = student[\"Team Number\"]\n",
    "    key = (project, team_number)\n",
    "    groups[key].append(student.to_dict())\n",
    "\n",
    "team_assignments = []\n",
    "\n",
    "for (project, team_num), members in groups.items():\n",
    "    team_id = f\"{project} {team_num}\"\n",
    "    team = ta.TeamAssignment(team_id=team_id, members=members, project=project, fitness=0.0)\n",
    "    team_assignments.append(team)\n",
    "\n",
    "valid, reasons = rc.is_valid_arrangement(team_assignments, len(df), PROJECTS)\n",
    "\n",
    "if not valid:\n",
    "    print(\"Team Arrangement invalid.\")\n",
    "    for id, reason in reasons:\n",
    "        if id is not None:\n",
    "            print(f\"{id}: {reason}\")\n",
    "        else:\n",
    "            print(reason)\n",
    "else:\n",
    "    print(\"Team Arrangement valid.\")"
   ]
  }
 ],
 "metadata": {
  "kernelspec": {
   "display_name": "Python 3",
   "language": "python",
   "name": "python3"
  },
  "language_info": {
   "codemirror_mode": {
    "name": "ipython",
    "version": 3
   },
   "file_extension": ".py",
   "mimetype": "text/x-python",
   "name": "python",
   "nbconvert_exporter": "python",
   "pygments_lexer": "ipython3",
   "version": "3.10.7"
  }
 },
 "nbformat": 4,
 "nbformat_minor": 5
}
