{
 "cells": [
  {
   "cell_type": "markdown",
   "id": "ad1308f7",
   "metadata": {},
   "source": [
    "### Self-Selected Assignment Evaluator\n",
    "\n",
    "Evaluates a self-selected assignment."
   ]
  },
  {
   "cell_type": "markdown",
   "id": "cf6838ed",
   "metadata": {},
   "source": [
    "#### Imports"
   ]
  },
  {
   "cell_type": "code",
   "execution_count": null,
   "id": "7f0634b8",
   "metadata": {},
   "outputs": [],
   "source": [
    "import pandas as pd\n",
    "from collections import defaultdict\n",
    "import utils.fitness_functions as ff\n",
    "import models.team_assignment as ta\n",
    "import contextlib\n",
    "import io"
   ]
  },
  {
   "cell_type": "markdown",
   "id": "a3a0a819",
   "metadata": {},
   "source": [
    "#### Constants"
   ]
  },
  {
   "cell_type": "code",
   "execution_count": null,
   "id": "5ca5d5d5",
   "metadata": {},
   "outputs": [],
   "source": [
    "DATA = \"data/2022_23_arrangement.csv\""
   ]
  },
  {
   "cell_type": "markdown",
   "id": "25e7f64a",
   "metadata": {},
   "source": [
    "#### Evaluation"
   ]
  },
  {
   "cell_type": "code",
   "execution_count": null,
   "id": "55ebdf76",
   "metadata": {},
   "outputs": [],
   "source": [
    "def evaluate():\n",
    "\n",
    "    df = pd.read_csv(DATA, sep=\";\")\n",
    "\n",
    "    groups = defaultdict(list)\n",
    "\n",
    "    for _, student in df.iterrows():\n",
    "        project = student[\"Assigned Project\"]\n",
    "        team_number = student[\"Team Number\"]\n",
    "        key = (project, team_number)\n",
    "        groups[key].append(student.to_dict())\n",
    "\n",
    "    team_assignments = []\n",
    "\n",
    "    for (project, team_num), members in groups.items():\n",
    "        team_id = f\"{project} {team_num}\"\n",
    "        team = ta.TeamAssignment(team_id=team_id, members=members, project=project, fitness=0.0)\n",
    "        team_assignments.append(team)\n",
    "\n",
    "    avg_fitness = None\n",
    "    avg_div = None\n",
    "    avg_sat = None\n",
    "\n",
    "    with contextlib.redirect_stdout(io.StringIO()):\n",
    "        avg_fitness = ff.evaluate_all_teams(team_assignments)\n",
    "        avg_div, avg_sat = ff.evaluate_objectives_separately(team_assignments)\n",
    "\n",
    "    print(f\"\\nMono-objective fitness: {avg_fitness:.4f}\")\n",
    "    print(f\"\\nMulti-objective results:\\n- Diversity: {avg_div:.4f}\\n- Satisfaction: {avg_sat:.4f}\")\n",
    "\n",
    "    return avg_fitness, avg_div, avg_sat"
   ]
  }
 ],
 "metadata": {
  "kernelspec": {
   "display_name": "Python 3",
   "language": "python",
   "name": "python3"
  },
  "language_info": {
   "codemirror_mode": {
    "name": "ipython",
    "version": 3
   },
   "file_extension": ".py",
   "mimetype": "text/x-python",
   "name": "python",
   "nbconvert_exporter": "python",
   "pygments_lexer": "ipython3",
   "version": "3.10.7"
  }
 },
 "nbformat": 4,
 "nbformat_minor": 5
}
