{
 "cells": [
  {
   "cell_type": "markdown",
   "id": "d80d9f1e",
   "metadata": {},
   "source": [
    "### Statistical Test for GA Parameter Setting\n",
    "\n",
    "Testing the statistical strength of P_r values 5, 10, 15 and 20 on datasets of sizes 50, 100 and 200."
   ]
  },
  {
   "cell_type": "code",
   "execution_count": null,
   "id": "f567c49c",
   "metadata": {},
   "outputs": [
    {
     "name": "stdout",
     "output_type": "stream",
     "text": [
      "Friedman statistic: 3.8000\n",
      "P-value: 0.2839\n",
      "P_r = 5: Mean rank = 2.67\n",
      "P_r = 10: Mean rank = 1.33\n",
      "P_r = 15: Mean rank = 2.67\n",
      "P_r = 20: Mean rank = 3.33\n"
     ]
    }
   ],
   "source": [
    "from scipy.stats import friedmanchisquare\n",
    "import numpy as np\n",
    "\n",
    "# Each column corresponds to a value of P_r (5, 10, 15, 20)\n",
    "# Each row is a dataset size (50, 100, 200)\n",
    "scores = np.array([\n",
    "    [0.7186, 0.7235, 0.7204, 0.7187],  # size 50\n",
    "    [0.7042, 0.7038, 0.6963, 0.7015],  # size 100\n",
    "    [0.6777, 0.6787, 0.6783, 0.6751]   # size 200\n",
    "])\n",
    "\n",
    "statistic, p_value = friedmanchisquare(*scores.T)\n",
    "\n",
    "print(f\"Friedman statistic: {statistic:.4f}\")\n",
    "print(f\"P-value: {p_value:.4f}\")\n",
    "\n",
    "from scipy.stats import rankdata\n",
    "\n",
    "ranks = np.array([rankdata(-row) for row in scores])\n",
    "mean_ranks = np.mean(ranks, axis=0)\n",
    "\n",
    "for i, rank in enumerate(mean_ranks):\n",
    "    print(f\"P_r = {5 + 5*i}: Mean rank = {rank:.2f}\")\n"
   ]
  }
 ],
 "metadata": {
  "kernelspec": {
   "display_name": "Python 3",
   "language": "python",
   "name": "python3"
  },
  "language_info": {
   "codemirror_mode": {
    "name": "ipython",
    "version": 3
   },
   "file_extension": ".py",
   "mimetype": "text/x-python",
   "name": "python",
   "nbconvert_exporter": "python",
   "pygments_lexer": "ipython3",
   "version": "3.10.7"
  }
 },
 "nbformat": 4,
 "nbformat_minor": 5
}
